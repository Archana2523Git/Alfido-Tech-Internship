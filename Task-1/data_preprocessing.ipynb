{
  "nbformat": 4,
  "nbformat_minor": 0,
  "metadata": {
    "colab": {
      "provenance": [],
      "authorship_tag": "ABX9TyP1hgSdb+6gwwSYbi430y5i",
      "include_colab_link": true
    },
    "kernelspec": {
      "name": "python3",
      "display_name": "Python 3"
    },
    "language_info": {
      "name": "python"
    }
  },
  "cells": [
    {
      "cell_type": "markdown",
      "metadata": {
        "id": "view-in-github",
        "colab_type": "text"
      },
      "source": [
        "<a href=\"https://colab.research.google.com/github/Archana2523Git/Alfido-Tech-Internship/blob/main/Task-1/data_preprocessing.ipynb\" target=\"_parent\"><img src=\"https://colab.research.google.com/assets/colab-badge.svg\" alt=\"Open In Colab\"/></a>"
      ]
    },
    {
      "cell_type": "code",
      "source": [
        "#  Task 1: Data Preprocessing for AI using Pandas + Sklearn\n",
        "\n",
        "import pandas as pd\n",
        "import numpy as np\n",
        "from sklearn.preprocessing import MinMaxScaler\n",
        "from sklearn.model_selection import train_test_split\n",
        "\n"
      ],
      "metadata": {
        "id": "i0VODdmi4l-1"
      },
      "execution_count": 1,
      "outputs": []
    },
    {
      "cell_type": "code",
      "source": [
        "\n",
        "\n",
        "# Step 1: Create sample dataset\n",
        "data = pd.DataFrame({\n",
        "    'Name': ['Archana', 'Amit', 'Sara', 'Vikram', 'John'],\n",
        "    'Age': [21, 22, 21, np.nan, 23],\n",
        "    'Marks': [85, 78, 92, 88, np.nan]\n",
        "})\n",
        "\n",
        "print(\"Original Data:\\n\", data)"
      ],
      "metadata": {
        "colab": {
          "base_uri": "https://localhost:8080/"
        },
        "id": "BoZZqGOx5FBa",
        "outputId": "96ae9129-f1b5-4603-bf58-73814699f0a6"
      },
      "execution_count": 2,
      "outputs": [
        {
          "output_type": "stream",
          "name": "stdout",
          "text": [
            "Original Data:\n",
            "       Name   Age  Marks\n",
            "0  Archana  21.0   85.0\n",
            "1     Amit  22.0   78.0\n",
            "2     Sara  21.0   92.0\n",
            "3   Vikram   NaN   88.0\n",
            "4     John  23.0    NaN\n"
          ]
        }
      ]
    },
    {
      "cell_type": "code",
      "source": [
        "# Step 2: Fill missing values\n",
        "data['Age'].fillna(data['Age'].mean(), inplace=True)\n",
        "data['Marks'].fillna(data['Marks'].mean(), inplace=True)\n",
        "\n",
        "print(\"\\nCleaned Data:\\n\", data)"
      ],
      "metadata": {
        "colab": {
          "base_uri": "https://localhost:8080/"
        },
        "id": "Dt7mNliw5Q99",
        "outputId": "4e88d2ed-bd4b-452f-eb61-027c3d73d97a"
      },
      "execution_count": 3,
      "outputs": [
        {
          "output_type": "stream",
          "name": "stdout",
          "text": [
            "\n",
            "Cleaned Data:\n",
            "       Name    Age  Marks\n",
            "0  Archana  21.00  85.00\n",
            "1     Amit  22.00  78.00\n",
            "2     Sara  21.00  92.00\n",
            "3   Vikram  21.75  88.00\n",
            "4     John  23.00  85.75\n"
          ]
        },
        {
          "output_type": "stream",
          "name": "stderr",
          "text": [
            "/tmp/ipython-input-3-2168208306.py:2: FutureWarning: A value is trying to be set on a copy of a DataFrame or Series through chained assignment using an inplace method.\n",
            "The behavior will change in pandas 3.0. This inplace method will never work because the intermediate object on which we are setting values always behaves as a copy.\n",
            "\n",
            "For example, when doing 'df[col].method(value, inplace=True)', try using 'df.method({col: value}, inplace=True)' or df[col] = df[col].method(value) instead, to perform the operation inplace on the original object.\n",
            "\n",
            "\n",
            "  data['Age'].fillna(data['Age'].mean(), inplace=True)\n",
            "/tmp/ipython-input-3-2168208306.py:3: FutureWarning: A value is trying to be set on a copy of a DataFrame or Series through chained assignment using an inplace method.\n",
            "The behavior will change in pandas 3.0. This inplace method will never work because the intermediate object on which we are setting values always behaves as a copy.\n",
            "\n",
            "For example, when doing 'df[col].method(value, inplace=True)', try using 'df.method({col: value}, inplace=True)' or df[col] = df[col].method(value) instead, to perform the operation inplace on the original object.\n",
            "\n",
            "\n",
            "  data['Marks'].fillna(data['Marks'].mean(), inplace=True)\n"
          ]
        }
      ]
    },
    {
      "cell_type": "code",
      "source": [
        "# Step 3: Drop non-numeric column for modeling\n",
        "data = data.drop('Name', axis=1)\n",
        "\n"
      ],
      "metadata": {
        "id": "jOjcWf_V5c2e"
      },
      "execution_count": 4,
      "outputs": []
    },
    {
      "cell_type": "code",
      "source": [
        "# Step 4: Normalize using MinMaxScaler\n",
        "scaler = MinMaxScaler()\n",
        "normalized = scaler.fit_transform(data)\n",
        "normalized_df = pd.DataFrame(normalized, columns=data.columns)\n",
        "\n",
        "print(\"\\nNormalized Data:\\n\", normalized_df)\n"
      ],
      "metadata": {
        "colab": {
          "base_uri": "https://localhost:8080/"
        },
        "id": "EmcKw_tm5i9k",
        "outputId": "6e8bee20-250e-4faa-bd1a-b8bae3674b62"
      },
      "execution_count": 5,
      "outputs": [
        {
          "output_type": "stream",
          "name": "stdout",
          "text": [
            "\n",
            "Normalized Data:\n",
            "      Age     Marks\n",
            "0  0.000  0.500000\n",
            "1  0.500  0.000000\n",
            "2  0.000  1.000000\n",
            "3  0.375  0.714286\n",
            "4  1.000  0.553571\n"
          ]
        }
      ]
    },
    {
      "cell_type": "code",
      "source": [
        "# Step 5: Prepare Features & Labels\n",
        "X = normalized_df.drop('Marks', axis=1)\n",
        "y = normalized_df['Marks']\n"
      ],
      "metadata": {
        "id": "4rmUTEvE5oxi"
      },
      "execution_count": 6,
      "outputs": []
    },
    {
      "cell_type": "code",
      "source": [
        "# Step 6: Split data\n",
        "X_train, X_test, y_train, y_test = train_test_split(X, y, test_size=0.2, random_state=42)\n",
        "\n",
        "print(\"\\nX_train:\\n\", X_train)\n",
        "print(\"\\ny_train:\\n\", y_train)\n",
        "print(\"\\nX_test:\\n\", X_test)\n",
        "print(\"\\ny_test:\\n\", y_test)"
      ],
      "metadata": {
        "colab": {
          "base_uri": "https://localhost:8080/"
        },
        "id": "-0vds4s65vDj",
        "outputId": "207d915b-ac22-4c09-d1c0-3e20669afe22"
      },
      "execution_count": 7,
      "outputs": [
        {
          "output_type": "stream",
          "name": "stdout",
          "text": [
            "\n",
            "X_train:\n",
            "      Age\n",
            "4  1.000\n",
            "2  0.000\n",
            "0  0.000\n",
            "3  0.375\n",
            "\n",
            "y_train:\n",
            " 4    0.553571\n",
            "2    1.000000\n",
            "0    0.500000\n",
            "3    0.714286\n",
            "Name: Marks, dtype: float64\n",
            "\n",
            "X_test:\n",
            "    Age\n",
            "1  0.5\n",
            "\n",
            "y_test:\n",
            " 1    0.0\n",
            "Name: Marks, dtype: float64\n"
          ]
        }
      ]
    }
  ]
}